{
 "cells": [
  {
   "cell_type": "code",
   "execution_count": null,
   "id": "3c07d254",
   "metadata": {},
   "outputs": [],
   "source": [
    "## Function to validate our input \n",
    "def validate(number):\n",
    "     while True:                                           ## While loop for taking input again when entering wrong value\n",
    "                 try:                                     ## Used exception handling for checking input \n",
    "                    float(number)\n",
    "                    break\n",
    "                 except ValueError:\n",
    "                    number = input('Wrong Input, Enter again: ')\n",
    "    return float(number)                                  ## returning our number in float   \n",
    "\n",
    "## Function for entering input   \n",
    "def entering_input():  \n",
    "    l = []\n",
    "    while True:\n",
    "        \n",
    "            a = input('Cost of Item: ')\n",
    "            float_num = validate(a)                       ## It will call the validate function for checking \n",
    "            if float_num == 0:                            ## Stoping taking the input when entered 0\n",
    "                break\n",
    "            else:\n",
    "                l.append(float_num)                       ## Adding the input to our list\n",
    "    return l\n",
    "        \n",
    "## Function for calculating sales tax                     ##adding comment\n",
    "def sales_tax(sum_list, tax_rate):\n",
    "    Sales_tax  = (tax_rate*sum_list)/100                  ## Calculating sales tax \n",
    "    return round(Sales_tax, 2)                            ## Rounding it to 2 decimal digit\n",
    "\n",
    "## Function for calculating total cost after tax    \n",
    "def total_after_tax(total, tax):\n",
    "    sum_after_tax = total  + tax                          ## Calculating final amount after tax\n",
    "    return round(sum_after_tax,2)                          ## Rounding it to 2 decimal digit\n",
    "   \n",
    "    \n",
    "    \n",
    "    \n",
    "    \n",
    "## output function    \n",
    "def output(final):\n",
    "    print('Total after tax: ', final)    \n",
    "    \n",
    "    \n",
    "## main function   \n",
    "def main():\n",
    "    \n",
    "    choice = 'y'\n",
    "    tax_rate = 6                                          \n",
    "    while (choice.lower() == 'y'):                        \n",
    "        sum_of_list = 0\n",
    "        print('ENTER ITEMS (ENTER 0 TO END)')\n",
    "        cost_of_items = entering_input()                       \n",
    "        sum_of_list = sum_of_list + sum(cost_of_items)          \n",
    "        print()\n",
    "        print('Total: ', sum_of_list)                           \n",
    "        Tax = sales_tax(sum_of_list, tax_rate)                 \n",
    "        print('Sales tax: ', Tax)                               \n",
    "        Total_cost = total_after_tax(sum(cost_of_items), Tax)   \n",
    "        output(Total_cost)                                     \n",
    "        \n",
    "        choice = input('Again? (y/n): ')                        \n",
    "    print('Thanks, Bye!')\n",
    "        \n",
    "## I am new in Canada, feeling good\n",
    "\n",
    "    \n",
    "## Program begins from here; main()\n",
    "if __name__ == '__main__':\n",
    "    print('Sales Tax Calculator')\n",
    "    main() \n"
   ]
  },
  {
   "cell_type": "code",
   "execution_count": null,
   "id": "724f29f1",
   "metadata": {},
   "outputs": [],
   "source": []
  }
 ],
 "metadata": {
  "kernelspec": {
   "display_name": "Python 3.9.7 ('base')",
   "language": "python",
   "name": "python3"
  },
  "language_info": {
   "codemirror_mode": {
    "name": "ipython",
    "version": 3
   },
   "file_extension": ".py",
   "mimetype": "text/x-python",
   "name": "python",
   "nbconvert_exporter": "python",
   "pygments_lexer": "ipython3",
   "version": "3.9.7"
  },
  "vscode": {
   "interpreter": {
    "hash": "6f5583cf1d9466b5c27e75c89cc6b383bed5736d6b16c51c8074d8690011a952"
   }
  }
 },
 "nbformat": 4,
 "nbformat_minor": 5
}
